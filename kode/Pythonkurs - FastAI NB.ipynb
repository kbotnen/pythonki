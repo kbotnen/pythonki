{
 "cells": [
  {
   "cell_type": "code",
   "execution_count": null,
   "id": "3c73cb4e",
   "metadata": {},
   "outputs": [],
   "source": [
    "import warnings\n",
    "warnings.simplefilter(action='ignore', category=UserWarning)"
   ]
  },
  {
   "cell_type": "code",
   "execution_count": null,
   "id": "b75e3ca3",
   "metadata": {},
   "outputs": [],
   "source": [
    "from duckduckgo_search import ddg_images # pip install duckduckgo_search\n",
    "from fastcore.all import * # conda install -c fastai fastai\n",
    "\n",
    "from fastdownload import download_url\n",
    "from fastai.vision.all import *"
   ]
  },
  {
   "cell_type": "code",
   "execution_count": null,
   "id": "ab0ed04f",
   "metadata": {},
   "outputs": [],
   "source": [
    "# A function that search images.\n",
    "def search_images(term, max_images=30):\n",
    "    print(f\"Searching for '{term}'\")\n",
    "    return L(ddg_images(term, max_results=max_images)).itemgot('image') # L is a listlike type specific to fastcore"
   ]
  },
  {
   "cell_type": "code",
   "execution_count": null,
   "id": "e9f0baa0",
   "metadata": {},
   "outputs": [],
   "source": [
    "bird_dest = 'bird.jpg'\n",
    "bird_urls = search_images('bird photos', max_images=1) # Relies on ddg, if error just try again.\n",
    "download_url(bird_urls[0], bird_dest, show_progress=True)\n",
    "\n",
    "im = Image.open(bird_dest)\n",
    "im.to_thumb(256,256)"
   ]
  },
  {
   "cell_type": "code",
   "execution_count": null,
   "id": "9ae801cd",
   "metadata": {},
   "outputs": [],
   "source": [
    "# Search, download and show a picture of a forest.\n",
    "forest_dest = 'forest.jpg'\n",
    "forest_urls = search_images('forest photos', max_images=1)\n",
    "download_url(forest_urls[0], forest_dest, show_progress=True)\n",
    "\n",
    "im = Image.open(forest_dest)\n",
    "im.to_thumb(256,256)"
   ]
  },
  {
   "cell_type": "code",
   "execution_count": null,
   "id": "0ad01427",
   "metadata": {},
   "outputs": [],
   "source": [
    "searches = 'forest','bird'\n",
    "path = Path('bird_or_not')\n",
    "from time import sleep\n",
    "\n",
    "for o in searches:\n",
    "    dest = (path/o)\n",
    "    dest.mkdir(exist_ok=True, parents=True)\n",
    "    download_images(dest, urls=search_images(f'{o} photo'))\n",
    "    sleep(10)  # Pause between searches to avoid over-loading server\n",
    "    download_images(dest, urls=search_images(f'{o} sun photo'))\n",
    "    sleep(10)\n",
    "    download_images(dest, urls=search_images(f'{o} shade photo'))\n",
    "    sleep(10)\n",
    "    resize_images(path/o, max_size=400, dest=path/o)\n"
   ]
  },
  {
   "cell_type": "code",
   "execution_count": null,
   "id": "a3066d93",
   "metadata": {},
   "outputs": [],
   "source": [
    "# Removed images that did not download correctly.\n",
    "failed = verify_images(get_image_files(path))\n",
    "failed.map(Path.unlink)\n",
    "len(failed)"
   ]
  },
  {
   "cell_type": "code",
   "execution_count": null,
   "id": "301d3b2f",
   "metadata": {},
   "outputs": [],
   "source": [
    "# Prepare the training data. Both the training set and the validation set.\n",
    "# DataBlock is fastai's way to do this task.\n",
    "dls = DataBlock(\n",
    "    blocks=(ImageBlock, CategoryBlock), # Input is images, Output is categories (bird / forest).\n",
    "    get_items=get_image_files, # get_image_files return a list of all the images in the given path.\n",
    "    splitter=RandomSplitter(valid_pct=0.2, seed=42), # Use 20% of the data as validation set.\n",
    "    get_y=parent_label, # The name of the parent folder (bird or forest) will be used as category labels.\n",
    "    item_tfms=[Resize(192, method='squish')] # Resize image by squishing (not cropping) before training.\n",
    ").dataloaders(path, bs=32)\n",
    "\n",
    "dls.show_batch(max_n=6)"
   ]
  },
  {
   "cell_type": "code",
   "execution_count": null,
   "id": "7b9ff5c8",
   "metadata": {},
   "outputs": [],
   "source": [
    "# Train and tune our model.\n",
    "learn = vision_learner(dls, resnet18, metrics=error_rate) # Resnet18 is a widely used, fast, cv model.\n",
    "learn.fine_tune(3) # FastAI use best practices for fine tuning a pre-trained model."
   ]
  },
  {
   "cell_type": "code",
   "execution_count": null,
   "id": "e2b7aebb",
   "metadata": {},
   "outputs": [],
   "source": [
    "# Use our model by passing it the first picture that we downloaded.\n",
    "is_bird,_,probs = learn.predict(PILImage.create('bird.jpg'))\n",
    "print(f\"This is a: {is_bird}.\")\n",
    "print(f\"Probability it's a bird: {probs[0]:.4f}\")"
   ]
  },
  {
   "cell_type": "code",
   "execution_count": null,
   "id": "86dadd3e",
   "metadata": {},
   "outputs": [],
   "source": []
  }
 ],
 "metadata": {
  "kernelspec": {
   "display_name": "Python 3 (ipykernel)",
   "language": "python",
   "name": "python3"
  },
  "language_info": {
   "codemirror_mode": {
    "name": "ipython",
    "version": 3
   },
   "file_extension": ".py",
   "mimetype": "text/x-python",
   "name": "python",
   "nbconvert_exporter": "python",
   "pygments_lexer": "ipython3",
   "version": "3.11.4"
  }
 },
 "nbformat": 4,
 "nbformat_minor": 5
}
