{
 "cells": [
  {
   "cell_type": "markdown",
   "id": "fc81e5b7",
   "metadata": {},
   "source": [
    "# Datasett - randomisert"
   ]
  },
  {
   "cell_type": "code",
   "execution_count": null,
   "id": "fca01be1",
   "metadata": {},
   "outputs": [],
   "source": [
    "# Load the numpy module with alias np for easy reference later.\n",
    "import numpy as np # pip install numpy or conda install -c conda-forge numpy\n",
    "\n",
    "# Load the plotly express module with alias px for easy reference later.\n",
    "import plotly.express as px # pip install plotly or conda install -c conda-forge plotly"
   ]
  },
  {
   "cell_type": "code",
   "execution_count": null,
   "id": "140a531c",
   "metadata": {},
   "outputs": [],
   "source": [
    "x_data = np.random.randint(0, 10, size=10) # Use NumPy to generate random data for the x-axis.\n",
    "y_data = np.random.randint(0, 10, size=10) # Use NumPy to generate random data for the y-axis.\n",
    "color_data = x_data                        # A random array-like list of colors.\n",
    "\n",
    "print(type(x_data)) # Inspect the datatype, its 'array-like'.\n",
    "print(x_data)       # Inspect the data.\n",
    "\n",
    "print(type(y_data)) # Inspect the datatype, its 'array-like'.\n",
    "print(y_data)       # Inspect the data."
   ]
  },
  {
   "cell_type": "code",
   "execution_count": null,
   "id": "7baf91e2",
   "metadata": {
    "scrolled": false
   },
   "outputs": [],
   "source": [
    "# Plot a barplot with plotly express.\n",
    "fig = px.bar(\n",
    "    x=x_data, # Values from this column or array_like are used to position marks along the x axis.\n",
    "    y=y_data, # Values from this column or array_like are used to position marks along the y axis.\n",
    "    color=color_data, # It will work perfectly fine without the colors too.\n",
    ") \n",
    "\n",
    "fig.show()"
   ]
  },
  {
   "cell_type": "markdown",
   "id": "49566576",
   "metadata": {},
   "source": [
    "Dokumentasjon av plotly: [https://plotly.com/python-api-reference/index.html](https://plotly.com/python-api-reference/index.html)\n",
    "\n",
    "Dokumentasjon av pandas.dataframe: [https://pandas.pydata.org/pandas-docs/stable/reference/api/pandas.DataFrame.html](https://pandas.pydata.org/pandas-docs/stable/reference/api/pandas.DataFrame.html)"
   ]
  },
  {
   "cell_type": "markdown",
   "id": "fe64d724",
   "metadata": {},
   "source": [
    "# Datasett - Gapminder\n",
    "\n",
    "Gapminder identifies systematic misconceptions about important global trends and proportions and uses reliable data to develop easy to understand teaching materials to rid people of their misconceptions.\n",
    "\n",
    "Gapminder is an independent Swedish foundation with no political, religious, or economic affiliations.\n",
    "\n",
    "Les mer om Gapminder: [https://www.gapminder.org/data/](https://www.gapminder.org/data/)\n",
    "\n",
    "Flere datasett: [https://open-numbers.github.io/](https://open-numbers.github.io/)"
   ]
  },
  {
   "cell_type": "code",
   "execution_count": null,
   "id": "3728f2cd",
   "metadata": {
    "scrolled": false
   },
   "outputs": [],
   "source": [
    "# Use the built-in sample dataset gapminder.\n",
    "df = px.data.gapminder() # Read the dataset into a variable called df, of type Pandas.DataFrame.\n",
    "df.head(15)              # Use the Pandas.DataFrame built-in method to list the 15 first rows of our DataFrame."
   ]
  },
  {
   "cell_type": "markdown",
   "id": "4cdcc71d",
   "metadata": {},
   "source": [
    "### Datautsnitt: year == 2007, type: scatter"
   ]
  },
  {
   "cell_type": "code",
   "execution_count": null,
   "id": "1b8e3921",
   "metadata": {},
   "outputs": [],
   "source": [
    "# Use Plotly Express's scatter method to create a scatter plot.\n",
    "# Provide the data frame and specify columns for the axies.\n",
    "\n",
    "fig = px.scatter(\n",
    "    df.query(\"year == 2007\"), # use Pandas.DataFrame.Query() method to retrieve only 2007 data.\n",
    "    x=\"gdpPercap\",            # gdpPercap is the column name for GDP per Capita.\n",
    "    y=\"lifeExp\"               # lifeExp is the column name for Life Expectancy.\n",
    ")\n",
    "\n",
    "fig.show()                    # Render the plot."
   ]
  },
  {
   "cell_type": "code",
   "execution_count": null,
   "id": "f1b414ec",
   "metadata": {
    "scrolled": true
   },
   "outputs": [],
   "source": [
    "# Use Plotly Express's scatter method to create a scatter plot.\n",
    "# Provide the data frame and specify columns for the axies.\n",
    "# Added parameters to make the plot more interesting.\n",
    "\n",
    "fig = px.scatter(\n",
    "    df.query(\"year == 2007\"), # use Pandas.DataFrame.Query() method to retrieve only 2007 data.\n",
    "    x=\"gdpPercap\",            # gdpPercap is the column name for GDP per Capita.\n",
    "    y=\"lifeExp\",              # lifeExp is the column name for life expectancy.\n",
    "    size=\"pop\",               # size of markers are based on the population value.\n",
    "    color=\"lifeExp\",          # color of the markers are assigned based on lifeExp value.\n",
    "    hover_name=\"country\"      # if we hover the mouse over the markers, show the country name.\n",
    ")\n",
    "\n",
    "fig.show()                    # Render the plot."
   ]
  },
  {
   "cell_type": "markdown",
   "id": "43bf9a47",
   "metadata": {},
   "source": [
    "### Datautsnitt: continent == Europe, type: line"
   ]
  },
  {
   "cell_type": "code",
   "execution_count": null,
   "id": "97332cad",
   "metadata": {},
   "outputs": [],
   "source": [
    "europe_data = px.data.gapminder().query(\"continent=='Europe'\")\n",
    "print(europe_data)"
   ]
  },
  {
   "cell_type": "code",
   "execution_count": null,
   "id": "2c4236d1",
   "metadata": {},
   "outputs": [],
   "source": [
    "# Use Plotly Express's scatter method to create a line plot.\n",
    "# Provide the data frame and specify columns for the axies.\n",
    "fig = px.line(\n",
    "    europe_data,    # use a variable that contains a Pandas.DataFrame.\n",
    "    x=\"year\",       # year column.\n",
    "    y=\"lifeExp\",    # life expectancy column.\n",
    "    color=\"country\" # color of the markers are assigned based on country value.\n",
    ")\n",
    "\n",
    "fig.show()          # Render the plot."
   ]
  },
  {
   "cell_type": "code",
   "execution_count": null,
   "id": "c640bb19",
   "metadata": {},
   "outputs": [],
   "source": [
    "# Use Plotly Express's scatter method to create a line plot.\n",
    "# Provide the data frame and specify columns for the axies.\n",
    "fig = px.line(\n",
    "    europe_data,    # use a variable that contains a Pandas.DataFrame.\n",
    "    x=\"year\",       # year column.\n",
    "    y=\"pop\",        # population column.\n",
    "    color=\"country\" # color of the markers are assigned based on country value.\n",
    ")\n",
    "\n",
    "fig.show()          # Render the plot."
   ]
  },
  {
   "cell_type": "markdown",
   "id": "5fa1ca47",
   "metadata": {},
   "source": [
    "### Datautsnitt: country == norway, type: bar"
   ]
  },
  {
   "cell_type": "code",
   "execution_count": null,
   "id": "f0e50a60",
   "metadata": {},
   "outputs": [],
   "source": [
    "norway_data = px.data.gapminder().query(\"country=='Norway'\")\n",
    "print(norway_data)"
   ]
  },
  {
   "cell_type": "code",
   "execution_count": null,
   "id": "f6a8bc3a",
   "metadata": {},
   "outputs": [],
   "source": [
    "# Use Plotly Express's scatter method to create a bar plot.\n",
    "# Provide the data frame and specify columns for the axies.\n",
    "fig = px.bar(\n",
    "    norway_data,                 # use a variable that contains a Pandas.DataFrame.\n",
    "    x=\"year\",                    # year column.\n",
    "    y=\"pop\",                     # population column.\n",
    "    color=\"lifeExp\",             # color of the markers are assigned based on life expectancy value.\n",
    "    color_continuous_scale=\"ice\" # build a continuous color scale.\n",
    ")\n",
    "\n",
    "fig.show()                       # Render the plot."
   ]
  },
  {
   "cell_type": "markdown",
   "id": "2e0c35ce",
   "metadata": {},
   "source": [
    "### Datautsnitt: country == europe, year == 2007, type: pie"
   ]
  },
  {
   "cell_type": "code",
   "execution_count": null,
   "id": "a3fadaf4",
   "metadata": {},
   "outputs": [],
   "source": [
    "# Use Plotly Express's scatter method to create a pie chart.\n",
    "# Provide the data frame and specify needed options.\n",
    "fig = px.pie(\n",
    "    df.query(\"year==2007\").query(\"continent=='Europe'\"), # use Pandas.DataFrame.Query() method to retrieve 2007 && europe data.\n",
    "    values=\"pop\",                                        # used to set values associated to sectors.\n",
    "    names=\"country\",                                     # used as labels for sectors.\n",
    "    title=\"Europe's Population Distribution\"             # the figure title.\n",
    ")\n",
    "\n",
    "fig.show()                                               # Render the plot."
   ]
  },
  {
   "cell_type": "markdown",
   "id": "9915633e",
   "metadata": {},
   "source": [
    "### Datautsnitt: gapminder, type: animated bubble / scatter"
   ]
  },
  {
   "cell_type": "code",
   "execution_count": null,
   "id": "893096c1",
   "metadata": {},
   "outputs": [],
   "source": [
    "# Hans Rosling style of visualisation. TED 2006, data-bubble software.\n",
    "fig = px.scatter(\n",
    "    px.data.gapminder(),       # use the whole dataset / same as df.\n",
    "    x=\"gdpPercap\",             # gdpPercap is the column name for GDP per Capita.\n",
    "    y=\"lifeExp\",               # lifeExp is the column name for life expectancy.\n",
    "    animation_frame=\"year\",    # this column are used to assign marks to animation frames.\n",
    "    animation_group=\"country\", # matching rows will be treated as if they describe the same object in each frame.\n",
    "    size=\"pop\",                # values from this column are used to assign mark sizes.\n",
    "    color=\"country\",           # values from this column are used to assign color to marks.\n",
    "    hover_name=\"country\",      # values from this column appear in bold in the hover tooltip.\n",
    "    log_x = True,              # the x-axis is log-scaled in cartesian coordinates.\n",
    "    size_max=45,               # maximum mark size when using size.\n",
    "    range_x=[100,100000],      # overrides auto-scaling on the x-axis in cartesian coordinates.\n",
    "    range_y=[25,90]            # overrides auto-scaling on the y-axis in cartesian coordinates.\n",
    ")\n",
    "\n",
    "fig.show()"
   ]
  },
  {
   "cell_type": "markdown",
   "id": "3d493025",
   "metadata": {},
   "source": [
    "# Lagre plot"
   ]
  },
  {
   "cell_type": "code",
   "execution_count": null,
   "id": "ac284053",
   "metadata": {},
   "outputs": [],
   "source": [
    "# pip install -U kaleido\n",
    "# conda install -c conda-forge python-kaleido\n",
    "\n",
    "import os\n",
    "\n",
    "# Lets create a folder to put our exported plots in.\n",
    "if not os.path.exists(\"image_export\"):\n",
    "    os.mkdir(\"image_export\")\n",
    "    \n",
    "fig.write_image(\"image_export/plot_1.png\") # Export as static image."
   ]
  },
  {
   "cell_type": "code",
   "execution_count": null,
   "id": "18e6226a",
   "metadata": {},
   "outputs": [],
   "source": [
    "import plotly.offline as ploff # Import more functionality from plotly package.\n",
    "\n",
    "ploff.offline.plot(fig, filename='image_export/plot_1.html') # Export as dynamic webpage."
   ]
  },
  {
   "cell_type": "markdown",
   "id": "a3365f71",
   "metadata": {},
   "source": [
    "# Datasett - Kaggle nettsamfunn\n",
    "\n",
    "Nettsiden: [https://www.kaggle.com/](https://www.kaggle.com/) inneholder et stort utvalg av datasett innenfor områder som finans, klima, utdanning med mer. I tillegg til datasett vil du også finne online-kurs, andre sine jupyter notebooks, forum med mer."
   ]
  },
  {
   "cell_type": "code",
   "execution_count": null,
   "id": "dd7fcd63",
   "metadata": {},
   "outputs": [],
   "source": [
    "import pandas as pd\n",
    "import matplotlib.pyplot as plt # pip install matplotlib\n",
    "import opendatasets as od # % pip install opendatasets\n",
    "\n",
    "od.download('https://www.kaggle.com/ajaypalsinghlo/world-happiness-report-2021') # Prereq: Prepare your API-user/pw on kaggle.com"
   ]
  },
  {
   "cell_type": "code",
   "execution_count": null,
   "id": "84d99fc5",
   "metadata": {},
   "outputs": [],
   "source": [
    "df = pd.read_csv('world-happiness-report-2021/world-happiness-report-2021.csv')\n",
    "df.head(5)"
   ]
  },
  {
   "cell_type": "markdown",
   "id": "e99c2494",
   "metadata": {},
   "source": [
    "# Oppsummering\n",
    "\n",
    "Da har vi plottet data v.h.a plotly. Vi har også brukt forskjellige datasett, fra de innebygde testsettene i plotly, til datasett som vi har hentet fra nettsamfunnet kaggle.com."
   ]
  },
  {
   "cell_type": "code",
   "execution_count": null,
   "id": "a0e6cdce",
   "metadata": {},
   "outputs": [],
   "source": []
  }
 ],
 "metadata": {
  "kernelspec": {
   "display_name": "Python 3 (ipykernel)",
   "language": "python",
   "name": "python3"
  },
  "language_info": {
   "codemirror_mode": {
    "name": "ipython",
    "version": 3
   },
   "file_extension": ".py",
   "mimetype": "text/x-python",
   "name": "python",
   "nbconvert_exporter": "python",
   "pygments_lexer": "ipython3",
   "version": "3.11.4"
  }
 },
 "nbformat": 4,
 "nbformat_minor": 5
}
